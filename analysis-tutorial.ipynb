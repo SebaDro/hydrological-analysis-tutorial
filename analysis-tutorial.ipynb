{
 "cells": [
  {
   "cell_type": "markdown",
   "id": "republican-atlantic",
   "metadata": {},
   "source": [
    "# Hydrological Analysis Tutorial\n",
    "In diesem Tutorial werden wir auf Grundlage von Niederschlags- und Pegelabflusszeitreihen schrittweise eine Niederschlagsabflussvorhersage mittel Machine Learning Methoden durchführen. Wir beginnen zunächst mit einem einfachen \"Baseline\" Ansatz, der uns als Referenz zur Beurteilung der Performance komplexerer Modelle dienen soll. Als Datensätze verwenden wir die Zeitreihen einiger ausgewählter Einzugsgebiete des CAMELS Datsets, der meteorologische Daten und Parameter für verschiedene Flusseinzugsgebiete der USA enthält:  \n",
    "* _A. Newman; K. Sampson; M. P. Clark; A. Bock; R. J. Viger; D. Blodgett, 2014. A large-sample watershed-scale hydrometeorological dataset for the contiguous USA. Boulder, CO: UCAR/NCAR. https://dx.doi.org/10.5065/D6MW2F4D_\n",
    "* _A. J. Newman, M. P. Clark, K. Sampson, A. Wood, L. E. Hay, A. Bock, R. J. Viger, D. Blodgett, L. Brekke, J. R. Arnold, T. Hopson, and Q. Duan: Development of a large-sample watershed-scale hydrometeorological dataset for the contiguous USA: dataset characteristics and assessment of regional variability in hydrologic model performance. Hydrol. Earth Syst. Sci., 19, 209-223, doi:10.5194/hess-19-209-2015, 2015_\n",
    "\n",
    "## Setup\n",
    "Als initiales Setup werden zunächst die benötigten Bibliotheken sowie eigene Packages geladen, die einige Hilfsfunktionen beinhalten, um z.B. Datensätze zu laden oder unsere späteren Modelle zu evaulieren. Außerdem werden die Pfade zu den relevanten Datensätzen gesetzt. Wir wollen uns zunächst auf ein einzelnes Einzugsgebiet konzentrieren. Bei Bedarf, kann hier auch ein alternatives Einzugsgebiet des CAMELS Datset gewählt werden. Hierzu sind die Pfade entsprechend anzupassen."
   ]
  },
  {
   "cell_type": "code",
   "execution_count": 1,
   "id": "discrete-concept",
   "metadata": {},
   "outputs": [],
   "source": [
    "import pandas as pd\n",
    "import matplotlib.pyplot as plt\n",
    "import numpy as np\n",
    "# Custom libs\n",
    "from scripts import dataio as dataio\n",
    "\n",
    "basin_id = \"11522500\" # ID des Einzugsgebiets kann bei Bedarf angepasst werden\n",
    "\n",
    "forcings_path = \"./data/\" + basin_id + \"_lump_cida_forcing_leap.txt\" # Pfad zur Datei mit den meteoroloigschen Zeitreihendaten des Einzugsgebiets\n",
    "streamflow_path = \"./data/\" + basin_id + \"_streamflow_qc.txt\" # Pfad zur Datei mit der Abflusszeitreihe des Einzugsgebiets"
   ]
  },
  {
   "cell_type": "markdown",
   "id": "visible-corruption",
   "metadata": {},
   "source": [
    "## Data analysis\n",
    "Bevor wir damit beginnen unsere Aufgabenstellung zu formalisieren und ein erstes Modell aufzustellen, schauen wir zunächst den verwedenten CAMELS Datensatz sowie dessen Parameter an. Hierzu laden wir die meteorologischen Parameter sowie die Abflussdaten aus den beiden Textdateien mit der Hilfsfunktion `load_forcings` als `DataFrame` und geben die ersten Zeilen aus. Zunächst der Datensatz mit den meteorologischen Zeitreihen:"
   ]
  },
  {
   "cell_type": "code",
   "execution_count": 2,
   "id": "continent-concentration",
   "metadata": {},
   "outputs": [
    {
     "data": {
      "text/html": [
       "<div>\n",
       "<style scoped>\n",
       "    .dataframe tbody tr th:only-of-type {\n",
       "        vertical-align: middle;\n",
       "    }\n",
       "\n",
       "    .dataframe tbody tr th {\n",
       "        vertical-align: top;\n",
       "    }\n",
       "\n",
       "    .dataframe thead th {\n",
       "        text-align: right;\n",
       "    }\n",
       "</style>\n",
       "<table border=\"1\" class=\"dataframe\">\n",
       "  <thead>\n",
       "    <tr style=\"text-align: right;\">\n",
       "      <th></th>\n",
       "      <th>dayl(s)</th>\n",
       "      <th>prcp(mm/day)</th>\n",
       "      <th>srad(W/m2)</th>\n",
       "      <th>swe(mm)</th>\n",
       "      <th>tmax(C)</th>\n",
       "      <th>tmin(C)</th>\n",
       "      <th>vp(Pa)</th>\n",
       "    </tr>\n",
       "    <tr>\n",
       "      <th>date</th>\n",
       "      <th></th>\n",
       "      <th></th>\n",
       "      <th></th>\n",
       "      <th></th>\n",
       "      <th></th>\n",
       "      <th></th>\n",
       "      <th></th>\n",
       "    </tr>\n",
       "  </thead>\n",
       "  <tbody>\n",
       "    <tr>\n",
       "      <th>1980-01-01</th>\n",
       "      <td>32720.28</td>\n",
       "      <td>7.30</td>\n",
       "      <td>142.87</td>\n",
       "      <td>0.0</td>\n",
       "      <td>6.21</td>\n",
       "      <td>-2.91</td>\n",
       "      <td>508.16</td>\n",
       "    </tr>\n",
       "    <tr>\n",
       "      <th>1980-01-02</th>\n",
       "      <td>32801.48</td>\n",
       "      <td>0.00</td>\n",
       "      <td>185.77</td>\n",
       "      <td>0.0</td>\n",
       "      <td>1.25</td>\n",
       "      <td>-7.76</td>\n",
       "      <td>361.16</td>\n",
       "    </tr>\n",
       "    <tr>\n",
       "      <th>1980-01-03</th>\n",
       "      <td>32831.98</td>\n",
       "      <td>0.00</td>\n",
       "      <td>92.57</td>\n",
       "      <td>0.0</td>\n",
       "      <td>-0.28</td>\n",
       "      <td>-4.38</td>\n",
       "      <td>450.41</td>\n",
       "    </tr>\n",
       "    <tr>\n",
       "      <th>1980-01-04</th>\n",
       "      <td>32831.98</td>\n",
       "      <td>0.00</td>\n",
       "      <td>218.07</td>\n",
       "      <td>0.0</td>\n",
       "      <td>11.44</td>\n",
       "      <td>-0.70</td>\n",
       "      <td>584.35</td>\n",
       "    </tr>\n",
       "    <tr>\n",
       "      <th>1980-01-05</th>\n",
       "      <td>32831.98</td>\n",
       "      <td>12.14</td>\n",
       "      <td>115.53</td>\n",
       "      <td>0.0</td>\n",
       "      <td>10.24</td>\n",
       "      <td>2.90</td>\n",
       "      <td>755.63</td>\n",
       "    </tr>\n",
       "  </tbody>\n",
       "</table>\n",
       "</div>"
      ],
      "text/plain": [
       "             dayl(s)  prcp(mm/day)  srad(W/m2)  swe(mm)  tmax(C)  tmin(C)  \\\n",
       "date                                                                        \n",
       "1980-01-01  32720.28          7.30      142.87      0.0     6.21    -2.91   \n",
       "1980-01-02  32801.48          0.00      185.77      0.0     1.25    -7.76   \n",
       "1980-01-03  32831.98          0.00       92.57      0.0    -0.28    -4.38   \n",
       "1980-01-04  32831.98          0.00      218.07      0.0    11.44    -0.70   \n",
       "1980-01-05  32831.98         12.14      115.53      0.0    10.24     2.90   \n",
       "\n",
       "            vp(Pa)  \n",
       "date                \n",
       "1980-01-01  508.16  \n",
       "1980-01-02  361.16  \n",
       "1980-01-03  450.41  \n",
       "1980-01-04  584.35  \n",
       "1980-01-05  755.63  "
      ]
     },
     "execution_count": 2,
     "metadata": {},
     "output_type": "execute_result"
    }
   ],
   "source": [
    "df_forcings = dataio.load_forcings(forcings_path)\n",
    "df_forcings.head()"
   ]
  },
  {
   "cell_type": "markdown",
   "id": "designing-shoulder",
   "metadata": {},
   "source": [
    "Wir erkennen, dass der Datensatz 7 verschiedene Parameter enthält:\n",
    "* `dayl(s)`: Tageslänge (daylength)\n",
    "* `prcp(mm/day)`: Niederschlagssumme (precipitation)\n",
    "* `srad(W/m2)`: Kurzwellenstrahlung (shortwave radiation)\n",
    "* `swe(mm)`: Schneewasseräquivalent (snow water equivalent)\n",
    "* `tmax(C)`: maximale Tagestemperatur\n",
    "* `tmin(C)`: minimale Tagestemperatur\n",
    "* `vp(Pa)`: Dampfdruck (vapor pressure)\n",
    "\n",
    "Der DataFrame ist außerdem mit einem Zeitstempel indiziert. Die zeitliche Auflösung entspricht einem Tag, beginnend ab dem 01.01.1980. "
   ]
  },
  {
   "cell_type": "markdown",
   "id": "educated-norwegian",
   "metadata": {},
   "source": [
    "Als nächstes schauen wir uns den Datensatz mit den Abflusszeitreihen an:"
   ]
  },
  {
   "cell_type": "code",
   "execution_count": 3,
   "id": "willing-newport",
   "metadata": {},
   "outputs": [
    {
     "data": {
      "text/html": [
       "<div>\n",
       "<style scoped>\n",
       "    .dataframe tbody tr th:only-of-type {\n",
       "        vertical-align: middle;\n",
       "    }\n",
       "\n",
       "    .dataframe tbody tr th {\n",
       "        vertical-align: top;\n",
       "    }\n",
       "\n",
       "    .dataframe thead th {\n",
       "        text-align: right;\n",
       "    }\n",
       "</style>\n",
       "<table border=\"1\" class=\"dataframe\">\n",
       "  <thead>\n",
       "    <tr style=\"text-align: right;\">\n",
       "      <th></th>\n",
       "      <th>gauge_id</th>\n",
       "      <th>streamflow</th>\n",
       "      <th>qc_flag</th>\n",
       "    </tr>\n",
       "    <tr>\n",
       "      <th>date</th>\n",
       "      <th></th>\n",
       "      <th></th>\n",
       "      <th></th>\n",
       "    </tr>\n",
       "  </thead>\n",
       "  <tbody>\n",
       "    <tr>\n",
       "      <th>1980-01-01</th>\n",
       "      <td>11522500</td>\n",
       "      <td>3100.0</td>\n",
       "      <td>A</td>\n",
       "    </tr>\n",
       "    <tr>\n",
       "      <th>1980-01-02</th>\n",
       "      <td>11522500</td>\n",
       "      <td>2800.0</td>\n",
       "      <td>A</td>\n",
       "    </tr>\n",
       "    <tr>\n",
       "      <th>1980-01-03</th>\n",
       "      <td>11522500</td>\n",
       "      <td>2560.0</td>\n",
       "      <td>A</td>\n",
       "    </tr>\n",
       "    <tr>\n",
       "      <th>1980-01-04</th>\n",
       "      <td>11522500</td>\n",
       "      <td>2320.0</td>\n",
       "      <td>A</td>\n",
       "    </tr>\n",
       "    <tr>\n",
       "      <th>1980-01-05</th>\n",
       "      <td>11522500</td>\n",
       "      <td>2940.0</td>\n",
       "      <td>A</td>\n",
       "    </tr>\n",
       "  </tbody>\n",
       "</table>\n",
       "</div>"
      ],
      "text/plain": [
       "            gauge_id  streamflow qc_flag\n",
       "date                                    \n",
       "1980-01-01  11522500      3100.0       A\n",
       "1980-01-02  11522500      2800.0       A\n",
       "1980-01-03  11522500      2560.0       A\n",
       "1980-01-04  11522500      2320.0       A\n",
       "1980-01-05  11522500      2940.0       A"
      ]
     },
     "execution_count": 3,
     "metadata": {},
     "output_type": "execute_result"
    }
   ],
   "source": [
    "df_streamflow = dataio.load_streamflow(streamflow_path)\n",
    "df_streamflow.head()"
   ]
  },
  {
   "cell_type": "markdown",
   "id": "average-mineral",
   "metadata": {},
   "source": [
    "Auch hier ist der DataFrame mit einem Zeitstempel indiziert. Hierbei handelt es sich ebenfalls um Tageswerte. Desweiteren weist der Datensatz die folgenden 3 Parameter auf:\n",
    "* `gauge_id`: ID des Pegels (entspricht der ID des Eizungsgebiets)\n",
    "* `streamflow`: täglicher durchschnittlicher Durchfluss in Kubikfuß pro Sekunde (ft$^3$/s)\n",
    "* `qc_flag`: Qualitätsmerkmal eines Durchflusswerts mit folgender Bedeutung: A -> tatsächlicher Wert, A:e -> geschätzter Wert M -> fehlender Wert"
   ]
  },
  {
   "cell_type": "markdown",
   "id": "hollow-terminology",
   "metadata": {},
   "source": [
    "Mit der zeitlichen Indizierung der Datensätze, lassen sich die zeitlichen Verläufe der Messwerte nun auf einfach Weise grafisch darstellen."
   ]
  },
  {
   "cell_type": "code",
   "execution_count": 4,
   "id": "welcome-zimbabwe",
   "metadata": {},
   "outputs": [
    {
     "data": {
      "text/plain": [
       "<AxesSubplot:title={'center':'Durchfluss für das Einzugsgebiet 11522500'}, xlabel='Datum', ylabel='Durchfluss [ft$^3$/s]'>"
      ]
     },
     "execution_count": 4,
     "metadata": {},
     "output_type": "execute_result"
    },
    {
     "data": {
      "image/png": "[encoded data removed]",
      "text/plain": [
       "<Figure size 432x288 with 1 Axes>"
      ]
     },
     "metadata": {
      "needs_background": "light"
     },
     "output_type": "display_data"
    },
    {
     "data": {
      "image/png": "[encoded data removed]",
      "text/plain": [
       "<Figure size 432x288 with 1 Axes>"
      ]
     },
     "metadata": {
      "needs_background": "light"
     },
     "output_type": "display_data"
    }
   ],
   "source": [
    "df_forcings[\"1995-01\":\"1995-12\"].plot(y=\"prcp(mm/day)\", title=\"Niederschlagszeitreihe für das Einzugsgebiet \" + basin_id,\n",
    "                                      legend=False, xlabel=\"Datum\", ylabel=\"Niederschlag [mm/d]\")\n",
    "df_streamflow[\"1995-01\":\"1995-12\"].plot(y=\"streamflow\", title=\"Durchfluss für das Einzugsgebiet \" + basin_id,\n",
    "                                       legend=False, xlabel=\"Datum\", ylabel=\"Durchfluss [ft$^3$/s]\")"
   ]
  },
  {
   "cell_type": "markdown",
   "id": "exciting-surge",
   "metadata": {},
   "source": [
    "### Aufgaben\n",
    "1) Welchen Zeitraum decken die beiden Datensätze ab? Verwenden Sie für die Bestimmung der Extrema die Python Library [pandas ](https://pandas.pydata.org/docs/index.html). Welche Kennzahlen der deskriptiven Statistik lassen sich noch bestimmen?\n",
    "2) Stellen Sie den Verlauf der maximalen Tagestemperatur über einen Zeitraum vom 01.04.2005 bis 15.04.2005 grafisch in einem Liniendiagramm dar. Nutzen Sie hierfür [Matplotlib](https://matplotlib.org/).\n",
    "3) Rechnen Sie den Durchfluss von ft$^3$/s in m$^3$/s um und ersetzen Sie die Werte der Spalte `streamflow` durch die umgerechneten Werte. (Hinweis: Der Umrechnungsfaktor von m$^3$ nach ft$^3$ beträgt ~35.315. D.h. $ft^3$ $\\approx$ $m^3*35.315$)"
   ]
  },
  {
   "cell_type": "code",
   "execution_count": 5,
   "id": "dangerous-brass",
   "metadata": {},
   "outputs": [],
   "source": [
    "# TODO Aufgabe 1\n"
   ]
  },
  {
   "cell_type": "code",
   "execution_count": 6,
   "id": "paperback-nickel",
   "metadata": {},
   "outputs": [],
   "source": [
    "# TODO Aufgabe 2\n"
   ]
  },
  {
   "cell_type": "code",
   "execution_count": 7,
   "id": "metric-sustainability",
   "metadata": {},
   "outputs": [],
   "source": [
    "# TODO Aufgabe 3\n"
   ]
  }
 ],
 "metadata": {
  "kernelspec": {
   "display_name": "Python 3",
   "language": "python",
   "name": "python3"
  },
  "language_info": {
   "codemirror_mode": {
    "name": "ipython",
    "version": 3
   },
   "file_extension": ".py",
   "mimetype": "text/x-python",
   "name": "python",
   "nbconvert_exporter": "python",
   "pygments_lexer": "ipython3",
   "version": "3.9.2"
  }
 },
 "nbformat": 4,
 "nbformat_minor": 5
}
